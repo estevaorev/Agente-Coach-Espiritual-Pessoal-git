{
  "nbformat": 4,
  "nbformat_minor": 0,
  "metadata": {
    "colab": {
      "provenance": [],
      "include_colab_link": true
    },
    "kernelspec": {
      "name": "python3",
      "display_name": "Python 3"
    },
    "language_info": {
      "name": "python"
    }
  },
  "cells": [
    {
      "cell_type": "markdown",
      "metadata": {
        "id": "view-in-github",
        "colab_type": "text"
      },
      "source": [
        "<a href=\"https://colab.research.google.com/github/estevaorev/Agente-Coach-Espiritual-Pessoal-git/blob/main/Imers%C3%A3o_IA_Alura_%2B_Google_Gemini_CoachAI_Espiritual.ipynb\" target=\"_parent\"><img src=\"https://colab.research.google.com/assets/colab-badge.svg\" alt=\"Open In Colab\"/></a>"
      ]
    },
    {
      "cell_type": "code",
      "source": [
        "%pip -q install google-genai"
      ],
      "metadata": {
        "id": "UCCbECexLk_h"
      },
      "execution_count": 4,
      "outputs": []
    },
    {
      "cell_type": "code",
      "source": [
        "# Configura a API Key do Google Gemini\n",
        "\n",
        "import os\n",
        "from google.colab import userdata\n",
        "\n",
        "os.environ[\"GOOGLE_API_KEY\"] = userdata.get('GOOGLE_API_KEY')"
      ],
      "metadata": {
        "id": "NfCqHo1tLk8P"
      },
      "execution_count": 6,
      "outputs": []
    },
    {
      "cell_type": "code",
      "source": [
        "# Configura o cliente da SDK do Gemini\n",
        "\n",
        "from google import genai\n",
        "\n",
        "client = genai.Client()\n",
        "\n",
        "MODEL_ID = \"gemini-2.0-flash\""
      ],
      "metadata": {
        "id": "bV4w0H5TLk5g"
      },
      "execution_count": 7,
      "outputs": []
    },
    {
      "cell_type": "code",
      "source": [
        "# Instalar Framework ADK de agentes do Google ################################################\n",
        "%pip install -q google-adk\n"
      ],
      "metadata": {
        "id": "hvZ3UnPI4jhJ",
        "colab": {
          "base_uri": "https://localhost:8080/"
        },
        "outputId": "9c27184f-ec5a-4ede-e7ac-29a8c43b00e5"
      },
      "execution_count": 9,
      "outputs": [
        {
          "output_type": "stream",
          "name": "stdout",
          "text": [
            "\u001b[?25l   \u001b[90m━━━━━━━━━━━━━━━━━━━━━━━━━━━━━━━━━━━━━━━━\u001b[0m \u001b[32m0.0/1.2 MB\u001b[0m \u001b[31m?\u001b[0m eta \u001b[36m-:--:--\u001b[0m\r\u001b[2K   \u001b[91m━━━━━━━━━━━━━━━━━━━━━━━━━━━━━━━━━━━━━━━\u001b[0m\u001b[91m╸\u001b[0m \u001b[32m1.2/1.2 MB\u001b[0m \u001b[31m46.5 MB/s\u001b[0m eta \u001b[36m0:00:01\u001b[0m\r\u001b[2K   \u001b[90m━━━━━━━━━━━━━━━━━━━━━━━━━━━━━━━━━━━━━━━━\u001b[0m \u001b[32m1.2/1.2 MB\u001b[0m \u001b[31m24.0 MB/s\u001b[0m eta \u001b[36m0:00:00\u001b[0m\n",
            "\u001b[?25h\u001b[?25l   \u001b[90m━━━━━━━━━━━━━━━━━━━━━━━━━━━━━━━━━━━━━━━━\u001b[0m \u001b[32m0.0/232.1 kB\u001b[0m \u001b[31m?\u001b[0m eta \u001b[36m-:--:--\u001b[0m\r\u001b[2K   \u001b[90m━━━━━━━━━━━━━━━━━━━━━━━━━━━━━━━━━━━━━━━━\u001b[0m \u001b[32m232.1/232.1 kB\u001b[0m \u001b[31m15.1 MB/s\u001b[0m eta \u001b[36m0:00:00\u001b[0m\n",
            "\u001b[?25h\u001b[?25l   \u001b[90m━━━━━━━━━━━━━━━━━━━━━━━━━━━━━━━━━━━━━━━━\u001b[0m \u001b[32m0.0/95.2 kB\u001b[0m \u001b[31m?\u001b[0m eta \u001b[36m-:--:--\u001b[0m\r\u001b[2K   \u001b[90m━━━━━━━━━━━━━━━━━━━━━━━━━━━━━━━━━━━━━━━━\u001b[0m \u001b[32m95.2/95.2 kB\u001b[0m \u001b[31m6.1 MB/s\u001b[0m eta \u001b[36m0:00:00\u001b[0m\n",
            "\u001b[?25h\u001b[?25l   \u001b[90m━━━━━━━━━━━━━━━━━━━━━━━━━━━━━━━━━━━━━━━━\u001b[0m \u001b[32m0.0/217.1 kB\u001b[0m \u001b[31m?\u001b[0m eta \u001b[36m-:--:--\u001b[0m\r\u001b[2K   \u001b[90m━━━━━━━━━━━━━━━━━━━━━━━━━━━━━━━━━━━━━━━━\u001b[0m \u001b[32m217.1/217.1 kB\u001b[0m \u001b[31m11.2 MB/s\u001b[0m eta \u001b[36m0:00:00\u001b[0m\n",
            "\u001b[?25h\u001b[?25l   \u001b[90m━━━━━━━━━━━━━━━━━━━━━━━━━━━━━━━━━━━━━━━━\u001b[0m \u001b[32m0.0/334.1 kB\u001b[0m \u001b[31m?\u001b[0m eta \u001b[36m-:--:--\u001b[0m\r\u001b[2K   \u001b[90m━━━━━━━━━━━━━━━━━━━━━━━━━━━━━━━━━━━━━━━━\u001b[0m \u001b[32m334.1/334.1 kB\u001b[0m \u001b[31m19.3 MB/s\u001b[0m eta \u001b[36m0:00:00\u001b[0m\n",
            "\u001b[2K   \u001b[90m━━━━━━━━━━━━━━━━━━━━━━━━━━━━━━━━━━━━━━━━\u001b[0m \u001b[32m125.1/125.1 kB\u001b[0m \u001b[31m9.3 MB/s\u001b[0m eta \u001b[36m0:00:00\u001b[0m\n",
            "\u001b[2K   \u001b[90m━━━━━━━━━━━━━━━━━━━━━━━━━━━━━━━━━━━━━━━━\u001b[0m \u001b[32m65.8/65.8 kB\u001b[0m \u001b[31m4.3 MB/s\u001b[0m eta \u001b[36m0:00:00\u001b[0m\n",
            "\u001b[2K   \u001b[90m━━━━━━━━━━━━━━━━━━━━━━━━━━━━━━━━━━━━━━━━\u001b[0m \u001b[32m119.0/119.0 kB\u001b[0m \u001b[31m8.7 MB/s\u001b[0m eta \u001b[36m0:00:00\u001b[0m\n",
            "\u001b[2K   \u001b[90m━━━━━━━━━━━━━━━━━━━━━━━━━━━━━━━━━━━━━━━━\u001b[0m \u001b[32m194.9/194.9 kB\u001b[0m \u001b[31m12.2 MB/s\u001b[0m eta \u001b[36m0:00:00\u001b[0m\n",
            "\u001b[2K   \u001b[90m━━━━━━━━━━━━━━━━━━━━━━━━━━━━━━━━━━━━━━━━\u001b[0m \u001b[32m62.5/62.5 kB\u001b[0m \u001b[31m4.2 MB/s\u001b[0m eta \u001b[36m0:00:00\u001b[0m\n",
            "\u001b[2K   \u001b[90m━━━━━━━━━━━━━━━━━━━━━━━━━━━━━━━━━━━━━━━━\u001b[0m \u001b[32m103.3/103.3 kB\u001b[0m \u001b[31m7.4 MB/s\u001b[0m eta \u001b[36m0:00:00\u001b[0m\n",
            "\u001b[2K   \u001b[90m━━━━━━━━━━━━━━━━━━━━━━━━━━━━━━━━━━━━━━━━\u001b[0m \u001b[32m44.4/44.4 kB\u001b[0m \u001b[31m3.5 MB/s\u001b[0m eta \u001b[36m0:00:00\u001b[0m\n",
            "\u001b[2K   \u001b[90m━━━━━━━━━━━━━━━━━━━━━━━━━━━━━━━━━━━━━━━━\u001b[0m \u001b[32m72.0/72.0 kB\u001b[0m \u001b[31m5.4 MB/s\u001b[0m eta \u001b[36m0:00:00\u001b[0m\n",
            "\u001b[?25h"
          ]
        }
      ]
    },
    {
      "cell_type": "code",
      "execution_count": 10,
      "metadata": {
        "id": "aePV2bdfDeoW"
      },
      "outputs": [],
      "source": [
        "from google.adk.agents import Agent\n",
        "from google.adk.runners import Runner\n",
        "from google.adk.sessions import InMemorySessionService\n",
        "from google.adk.tools import google_search\n",
        "from google.genai import types  # Para criar conteúdos (Content e Part)\n",
        "from datetime import date\n",
        "import textwrap # Para formatar melhor a saída de texto\n",
        "from IPython.display import display, Markdown # Para exibir texto formatado no Colab\n",
        "import requests # Para fazer requisições HTTP\n",
        "import warnings\n",
        "\n",
        "warnings.filterwarnings(\"ignore\")"
      ]
    },
    {
      "cell_type": "code",
      "source": [
        "# Função auxiliar que envia uma mensagem para um agente via Runner e retorna a resposta final\n",
        "def call_agent(agent: Agent, message_text: str) -> str:\n",
        "    # Cria um serviço de sessão em memória\n",
        "    session_service = InMemorySessionService()\n",
        "    # Cria uma nova sessão (você pode personalizar os IDs conforme necessário)\n",
        "    session = session_service.create_session(app_name=agent.name, user_id=\"user1\", session_id=\"session1\")\n",
        "    # Cria um Runner para o agente\n",
        "    runner = Runner(agent=agent, app_name=agent.name, session_service=session_service)\n",
        "    # Cria o conteúdo da mensagem de entrada\n",
        "    content = types.Content(role=\"user\", parts=[types.Part(text=message_text)])\n",
        "\n",
        "    final_response = \"\"\n",
        "    # Itera assincronamente pelos eventos retornados durante a execução do agente\n",
        "    for event in runner.run(user_id=\"user1\", session_id=\"session1\", new_message=content):\n",
        "        if event.is_final_response():\n",
        "          for part in event.content.parts:\n",
        "            if part.text is not None:\n",
        "              final_response += part.text\n",
        "              final_response += \"\\n\"\n",
        "    return final_response"
      ],
      "metadata": {
        "id": "_xP4lWhsS5ko"
      },
      "execution_count": 11,
      "outputs": []
    },
    {
      "cell_type": "code",
      "source": [
        "# Função auxiliar para exibir texto formatado em Markdown no Colab\n",
        "def to_markdown(text):\n",
        "  text = text.replace('•', '  *')\n",
        "  return Markdown(textwrap.indent(text, '> ', predicate=lambda _: True))"
      ],
      "metadata": {
        "id": "8dosiodaxfFR"
      },
      "execution_count": 12,
      "outputs": []
    },
    {
      "cell_type": "code",
      "source": [
        "##########################################\n",
        "# --- Agente 1: Identificador de humor/necessidade --- #\n",
        "##########################################\n",
        "def agente_identificador(necessidade):\n",
        "    identificador = Agent(\n",
        "        name=\"agente_identificador\",\n",
        "        model=\"gemini-2.0-flash\",\n",
        "\n",
        "        instruction=f\"\"\"\n",
        "            Propósito e Objetivos:\n",
        "            * Identificar o sentimento, humor e necessidade do usuário com base em uma única frase fornecida.\n",
        "            * Classificar a necessidade do usuário em uma das três categorias: Buscando Conforto, Inspiração ou Perspectiva.\n",
        "\n",
        "            Comportamentos e Regras:\n",
        "\n",
        "            1) Análise da Frase do Usuário:\n",
        "            a) Analisar a frase fornecida pelo usuário para identificar palavras-chave, tom e contexto emocional.\n",
        "            b) Inferir o estado emocional (sentimento e humor) do usuário com base na análise da frase.\n",
        "            c) Determinar a necessidade principal do usuário (Conforto, Inspiração ou Perspectiva) com base no estado emocional inferido e no contexto da frase.\n",
        "\n",
        "            2) Respostas Específicas por Categoria:\n",
        "\n",
        "            a) Buscando Conforto:\n",
        "            - Reconhecer e validar o sentimento de tristeza ou desconforto expresso pelo usuário.\n",
        "            - Responder que está buscando Conforto.\n",
        "\n",
        "            b) Buscando Inspiração:\n",
        "            - Reconhecer o desejo do usuário por motivação ou um início positivo.\n",
        "            - Responder que está buscando Inspiração.\n",
        "\n",
        "            c) Buscando Perspectiva:\n",
        "            - Reconhecer a situação de incerteza, dificuldade ou necessidade de clareza do usuário.\n",
        "            - Responder que está buscando Perspectiva.\n",
        "\n",
        "            3) Tom e Estilo:\n",
        "\n",
        "            Exemplo de Interação (incorporado nas regras para clareza):\n",
        "            * Usuário (Buscando Conforto): 'Hoje estou me sentindo bem triste.'\n",
        "            * Chatbot: Reconhece a tristeza. Responde 'Buscando Conforto'.\n",
        "\n",
        "            * Usuário (Buscando Inspiração): 'Quero uma mensagem para começar bem o dia.'\n",
        "            * Chatbot: Reconhece a busca por inspiração matinal. Responde 'Buscando Inspiração'.\n",
        "\n",
        "            * Usuário (Buscando Perspectiva): 'Estou com uma decisão difícil pela frente.'\n",
        "            * Chatbot: Reconhece a incerteza/dificuldade. Responde 'Buscando Perspectiva'.\"\"\",\n",
        "\n",
        "        description=\"Agente que identifica o sentimento, humor ou necessidade\"\n",
        "\n",
        "    )\n",
        "    entrada_do_agente_identificador = necessidade\n",
        "    # Executa o agente\n",
        "    jornada = call_agent(identificador, entrada_do_agente_identificador)\n",
        "    return jornada"
      ],
      "metadata": {
        "id": "o8bqIfi_DyH8"
      },
      "execution_count": 13,
      "outputs": []
    },
    {
      "cell_type": "code",
      "source": [
        "##########################################\n",
        "# --- Agente 2: Gerador de mensagem --- #\n",
        "##########################################\n",
        "def agente_motivador(jornada):\n",
        "    motivador = Agent(\n",
        "        name=\"agente_motivador\",\n",
        "        model=\"gemini-2.0-flash\",\n",
        "         instruction=f\"\"\"\n",
        "            Propósito e Objetivos:\n",
        "            * Gerar uma mensagem motivacional personalizada para o usuário com base na sua necessidade identificada.\n",
        "            utilize os seguintes conteúdos espirituais/inspiracionais: versículos,Citações, pequenos textos, parábolas, afirmações, trechos de livros, etc.\n",
        "\n",
        "            * Oferecer conforto, inspiração ou perspectiva, dependendo da categoria da necessidade do usuário.\n",
        "\n",
        "            Comportamentos e Regras:\n",
        "\n",
        "            1) Análise da Necessidade Identificada:\n",
        "            a) Receber a categoria da necessidade do usuário (Conforto, Inspiração ou Perspectiva) fornecida pelo Agente Identificador.\n",
        "            b) Entender o contexto da necessidade do usuário para personalizar melhor a mensagem.\n",
        "\n",
        "            2)Respostas Específicas por Categoria:\n",
        "\n",
        "            a) Buscando Conforto:\n",
        "            - Reconhecer e validar o sentimento de tristeza ou desconforto expresso pelo usuário.\n",
        "            - Oferecer uma mensagem breve de empatia, apoio, esperança ou aceitação.\n",
        "            - Evitar conselhos não solicitados e focar no conforto emocional.\n",
        "\n",
        "            b) Buscando Inspiração:\n",
        "            - Reconhecer o desejo do usuário por motivação ou um início positivo.\n",
        "            - Fornecer uma citação curta, uma reflexão inspiradora ou uma afirmação positiva para o dia.\n",
        "            - Manter a mensagem breve e impactante.\n",
        "\n",
        "            c) Buscando Perspectiva:\n",
        "            - Reconhecer a situação de incerteza, dificuldade ou necessidade de clareza do usuário.\n",
        "            - Oferecer uma mensagem concisa sobre sabedoria interior, confiança, resiliência ou a importância da intuição.\n",
        "            - Evitar soluções diretas e focar em oferecer uma nova maneira de pensar sobre a situação.\n",
        "\n",
        "            3) Tom e Estilo:\n",
        "            * Manter um tom empático, atencioso e respeitoso em todas as interações.\n",
        "            * Utilizar linguagem clara, concisa e apropriada ao contexto emocional identificado.\n",
        "            * Evitar jargões psicológicos complexos.\n",
        "            * Responder de forma direta e focada na necessidade identificada, sem divagações.\n",
        "\n",
        "            \"\"\",\n",
        "        description=\"Agente que fornece a resposta\",\n",
        "    )\n",
        "    entrada_do_agente_motivador = jornada\n",
        "    # Executa o agente\n",
        "    mensagem = call_agent(motivador, entrada_do_agente_motivador)\n",
        "    return mensagem\n",
        ""
      ],
      "metadata": {
        "id": "QByUdnkmAOk1"
      },
      "execution_count": 22,
      "outputs": []
    },
    {
      "cell_type": "code",
      "source": [
        "    # --- Obter a frase do Usuário ---\n",
        "    necessidade = input(\"❓ Por favor, descreva em uma frase como está se sentindo, ou expresse seu humor, ou objetivos: \")\n",
        "    # Inserir lógica do sistema de agentes ################################################\n",
        "    if not necessidade:\n",
        "      print(\"❌ Você precisa fornecer uma frase.\")\n",
        "    else:\n",
        "      print(\"Aguarde! estamos preparando sua mensagem: \")\n",
        "\n",
        "\n",
        "\n",
        "    # Usando agente 1\n",
        "      print(\"\\n...🔍 Identificando sua necessidade...\")\n",
        "    jornada = agente_identificador(necessidade)\n",
        "    print(\"\\n...📝 Resultado do agente 1 (Identificador)  ---\\n\")\n",
        "    display(to_markdown(jornada))\n",
        "    print(\"------------------------------------------------\")\n",
        "\n",
        "    # Usando agente 2\n",
        "    print(\"📝 Gerando mensagem motivacional...\\n\")\n",
        "    mensagem = agente_motivador(jornada)\n",
        "    print(\"\\n...📝 Resultado do agente 2 (Motivador) ---\\n\")\n",
        "    display(to_markdown(mensagem))\n",
        "    print(\"------------------------------------------------\")\n",
        "\n",
        "    print(\"\\n✅ Mensagem gerada com sucesso!\\n\")\n",
        "    print(\"------------------------------------------------\")\n",
        "\n",
        "\n",
        "\n",
        "\n",
        "\n",
        "\n"
      ],
      "metadata": {
        "colab": {
          "base_uri": "https://localhost:8080/",
          "height": 420
        },
        "id": "VDjB_Ocp7quT",
        "outputId": "1ef50862-0cfb-458e-9c4f-2a4fc09f7637"
      },
      "execution_count": 29,
      "outputs": [
        {
          "output_type": "stream",
          "name": "stdout",
          "text": [
            "❓ Por favor, descreva em uma frase como está se sentindo, ou expresse seu humor, ou objetivos: matando um leão por dia\n",
            "Aguarde! estamos preparando sua mensagem: \n",
            "\n",
            "...🔍 Identificando sua necessidade...\n",
            "\n",
            "...📝 Resultado do agente 1 (Identificador)  ---\n",
            "\n"
          ]
        },
        {
          "output_type": "display_data",
          "data": {
            "text/plain": [
              "<IPython.core.display.Markdown object>"
            ],
            "text/markdown": "> Buscando Inspiração\n"
          },
          "metadata": {}
        },
        {
          "output_type": "stream",
          "name": "stdout",
          "text": [
            "------------------------------------------------\n",
            "📝 Gerando mensagem motivacional...\n",
            "\n",
            "\n",
            "...📝 Resultado do agente 2 (Motivador) ---\n",
            "\n"
          ]
        },
        {
          "output_type": "display_data",
          "data": {
            "text/plain": [
              "<IPython.core.display.Markdown object>"
            ],
            "text/markdown": "> \"Acredite que você pode e já estará no meio do caminho.\" – Theodore Roosevelt.\n> \n"
          },
          "metadata": {}
        },
        {
          "output_type": "stream",
          "name": "stdout",
          "text": [
            "------------------------------------------------\n",
            "\n",
            "✅ Mensagem gerada com sucesso!\n",
            "\n",
            "------------------------------------------------\n"
          ]
        }
      ]
    }
  ]
}