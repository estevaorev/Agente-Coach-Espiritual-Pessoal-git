{
  "nbformat": 4,
  "nbformat_minor": 0,
  "metadata": {
    "colab": {
      "provenance": [],
      "include_colab_link": true
    },
    "kernelspec": {
      "name": "python3",
      "display_name": "Python 3"
    },
    "language_info": {
      "name": "python"
    }
  },
  "cells": [
    {
      "cell_type": "markdown",
      "metadata": {
        "id": "view-in-github",
        "colab_type": "text"
      },
      "source": [
        "<a href=\"https://colab.research.google.com/github/estevaorev/Agente-Coach-Espiritual-Pessoal-git/blob/main/Imers%C3%A3o_IA_Alura_%2B_Google_Gemini_CoachAI_Espiritual.ipynb\" target=\"_parent\"><img src=\"https://colab.research.google.com/assets/colab-badge.svg\" alt=\"Open In Colab\"/></a>"
      ]
    },
    {
      "cell_type": "code",
      "source": [
        "%pip -q install google-genai"
      ],
      "metadata": {
        "id": "UCCbECexLk_h"
      },
      "execution_count": 1,
      "outputs": []
    },
    {
      "cell_type": "code",
      "source": [
        "# Configura a API Key do Google Gemini\n",
        "\n",
        "import os\n",
        "from google.colab import userdata\n",
        "\n",
        "os.environ[\"GOOGLE_API_KEY\"] = userdata.get('GOOGLE_API_KEY')"
      ],
      "metadata": {
        "id": "NfCqHo1tLk8P"
      },
      "execution_count": 2,
      "outputs": []
    },
    {
      "cell_type": "code",
      "source": [
        "# Configura o cliente da SDK do Gemini\n",
        "\n",
        "from google import genai\n",
        "\n",
        "client = genai.Client()\n",
        "\n",
        "MODEL_ID = \"gemini-2.0-flash\""
      ],
      "metadata": {
        "id": "bV4w0H5TLk5g"
      },
      "execution_count": 3,
      "outputs": []
    },
    {
      "cell_type": "code",
      "source": [
        "# Instalar Framework ADK de agentes do Google ################################################\n",
        "%pip install -q google-adk\n"
      ],
      "metadata": {
        "id": "hvZ3UnPI4jhJ",
        "colab": {
          "base_uri": "https://localhost:8080/"
        },
        "outputId": "39dbf396-6e80-4ad0-e066-8d3eee9ab25c"
      },
      "execution_count": 4,
      "outputs": [
        {
          "output_type": "stream",
          "name": "stdout",
          "text": [
            "\u001b[2K   \u001b[90m━━━━━━━━━━━━━━━━━━━━━━━━━━━━━━━━━━━━━━━━\u001b[0m \u001b[32m1.2/1.2 MB\u001b[0m \u001b[31m16.0 MB/s\u001b[0m eta \u001b[36m0:00:00\u001b[0m\n",
            "\u001b[2K   \u001b[90m━━━━━━━━━━━━━━━━━━━━━━━━━━━━━━━━━━━━━━━━\u001b[0m \u001b[32m232.1/232.1 kB\u001b[0m \u001b[31m15.0 MB/s\u001b[0m eta \u001b[36m0:00:00\u001b[0m\n",
            "\u001b[2K   \u001b[90m━━━━━━━━━━━━━━━━━━━━━━━━━━━━━━━━━━━━━━━━\u001b[0m \u001b[32m95.2/95.2 kB\u001b[0m \u001b[31m7.3 MB/s\u001b[0m eta \u001b[36m0:00:00\u001b[0m\n",
            "\u001b[2K   \u001b[90m━━━━━━━━━━━━━━━━━━━━━━━━━━━━━━━━━━━━━━━━\u001b[0m \u001b[32m217.1/217.1 kB\u001b[0m \u001b[31m12.7 MB/s\u001b[0m eta \u001b[36m0:00:00\u001b[0m\n",
            "\u001b[2K   \u001b[90m━━━━━━━━━━━━━━━━━━━━━━━━━━━━━━━━━━━━━━━━\u001b[0m \u001b[32m334.1/334.1 kB\u001b[0m \u001b[31m21.3 MB/s\u001b[0m eta \u001b[36m0:00:00\u001b[0m\n",
            "\u001b[2K   \u001b[90m━━━━━━━━━━━━━━━━━━━━━━━━━━━━━━━━━━━━━━━━\u001b[0m \u001b[32m125.1/125.1 kB\u001b[0m \u001b[31m8.9 MB/s\u001b[0m eta \u001b[36m0:00:00\u001b[0m\n",
            "\u001b[2K   \u001b[90m━━━━━━━━━━━━━━━━━━━━━━━━━━━━━━━━━━━━━━━━\u001b[0m \u001b[32m65.8/65.8 kB\u001b[0m \u001b[31m4.5 MB/s\u001b[0m eta \u001b[36m0:00:00\u001b[0m\n",
            "\u001b[2K   \u001b[90m━━━━━━━━━━━━━━━━━━━━━━━━━━━━━━━━━━━━━━━━\u001b[0m \u001b[32m119.0/119.0 kB\u001b[0m \u001b[31m8.6 MB/s\u001b[0m eta \u001b[36m0:00:00\u001b[0m\n",
            "\u001b[2K   \u001b[90m━━━━━━━━━━━━━━━━━━━━━━━━━━━━━━━━━━━━━━━━\u001b[0m \u001b[32m194.9/194.9 kB\u001b[0m \u001b[31m13.2 MB/s\u001b[0m eta \u001b[36m0:00:00\u001b[0m\n",
            "\u001b[2K   \u001b[90m━━━━━━━━━━━━━━━━━━━━━━━━━━━━━━━━━━━━━━━━\u001b[0m \u001b[32m62.5/62.5 kB\u001b[0m \u001b[31m4.5 MB/s\u001b[0m eta \u001b[36m0:00:00\u001b[0m\n",
            "\u001b[2K   \u001b[90m━━━━━━━━━━━━━━━━━━━━━━━━━━━━━━━━━━━━━━━━\u001b[0m \u001b[32m103.3/103.3 kB\u001b[0m \u001b[31m6.9 MB/s\u001b[0m eta \u001b[36m0:00:00\u001b[0m\n",
            "\u001b[2K   \u001b[90m━━━━━━━━━━━━━━━━━━━━━━━━━━━━━━━━━━━━━━━━\u001b[0m \u001b[32m44.4/44.4 kB\u001b[0m \u001b[31m3.1 MB/s\u001b[0m eta \u001b[36m0:00:00\u001b[0m\n",
            "\u001b[2K   \u001b[90m━━━━━━━━━━━━━━━━━━━━━━━━━━━━━━━━━━━━━━━━\u001b[0m \u001b[32m72.0/72.0 kB\u001b[0m \u001b[31m5.2 MB/s\u001b[0m eta \u001b[36m0:00:00\u001b[0m\n",
            "\u001b[?25h"
          ]
        }
      ]
    },
    {
      "cell_type": "code",
      "execution_count": 5,
      "metadata": {
        "id": "aePV2bdfDeoW"
      },
      "outputs": [],
      "source": [
        "from google.adk.agents import Agent\n",
        "from google.adk.runners import Runner\n",
        "from google.adk.sessions import InMemorySessionService\n",
        "from google.adk.tools import google_search\n",
        "from google.genai import types  # Para criar conteúdos (Content e Part)\n",
        "from datetime import date\n",
        "import textwrap # Para formatar melhor a saída de texto\n",
        "from IPython.display import display, Markdown # Para exibir texto formatado no Colab\n",
        "import requests # Para fazer requisições HTTP\n",
        "import warnings\n",
        "\n",
        "warnings.filterwarnings(\"ignore\")"
      ]
    },
    {
      "cell_type": "code",
      "source": [
        "# Função auxiliar que envia uma mensagem para um agente via Runner e retorna a resposta final\n",
        "def call_agent(agent: Agent, message_text: str) -> str:\n",
        "    # Cria um serviço de sessão em memória\n",
        "    session_service = InMemorySessionService()\n",
        "    # Cria uma nova sessão (você pode personalizar os IDs conforme necessário)\n",
        "    session = session_service.create_session(app_name=agent.name, user_id=\"user1\", session_id=\"session1\")\n",
        "    # Cria um Runner para o agente\n",
        "    runner = Runner(agent=agent, app_name=agent.name, session_service=session_service)\n",
        "    # Cria o conteúdo da mensagem de entrada\n",
        "    content = types.Content(role=\"user\", parts=[types.Part(text=message_text)])\n",
        "\n",
        "    final_response = \"\"\n",
        "    # Itera assincronamente pelos eventos retornados durante a execução do agente\n",
        "    for event in runner.run(user_id=\"user1\", session_id=\"session1\", new_message=content):\n",
        "        if event.is_final_response():\n",
        "          for part in event.content.parts:\n",
        "            if part.text is not None:\n",
        "              final_response += part.text\n",
        "              final_response += \"\\n\"\n",
        "    return final_response"
      ],
      "metadata": {
        "id": "_xP4lWhsS5ko"
      },
      "execution_count": 6,
      "outputs": []
    },
    {
      "cell_type": "code",
      "source": [
        "# Função auxiliar para exibir texto formatado em Markdown no Colab\n",
        "def to_markdown(text):\n",
        "  text = text.replace('•', '  *')\n",
        "  return Markdown(textwrap.indent(text, '> ', predicate=lambda _: True))"
      ],
      "metadata": {
        "id": "8dosiodaxfFR"
      },
      "execution_count": 7,
      "outputs": []
    },
    {
      "cell_type": "code",
      "source": [
        "##########################################\n",
        "# --- Agente 1: Identificador de humor/necessidade --- #\n",
        "##########################################\n",
        "def agente_identificador(necessidade):\n",
        "    identificador = Agent(\n",
        "        name=\"agente_identificador\",\n",
        "        model=\"gemini-2.0-flash\",\n",
        "\n",
        "        instruction=f\"\"\"\n",
        "            Propósito e Objetivos:\n",
        "            * Identificar o sentimento, humor e necessidade do usuário com base em uma única frase fornecida.\n",
        "            * Classificar a necessidade do usuário em uma das três categorias: Buscando Conforto, Inspiração ou Perspectiva.\n",
        "\n",
        "            Comportamentos e Regras:\n",
        "\n",
        "            1) Análise da Frase do Usuário:\n",
        "            a) Analisar a frase fornecida pelo usuário para identificar palavras-chave, tom e contexto emocional.\n",
        "            b) Inferir o estado emocional (sentimento e humor) do usuário com base na análise da frase.\n",
        "            c) Determinar a necessidade principal do usuário (Conforto, Inspiração ou Perspectiva) com base no estado emocional inferido e no contexto da frase.\n",
        "\n",
        "            2) Respostas Específicas por Categoria:\n",
        "\n",
        "            a) Buscando Conforto:\n",
        "            - Reconhecer e validar o sentimento de tristeza ou desconforto expresso pelo usuário.\n",
        "            - Responder que está buscando Conforto.\n",
        "\n",
        "            b) Buscando Inspiração:\n",
        "            - Reconhecer o desejo do usuário por motivação ou um início positivo.\n",
        "            - Responder que está buscando Inspiração.\n",
        "\n",
        "            c) Buscando Perspectiva:\n",
        "            - Reconhecer a situação de incerteza, dificuldade ou necessidade de clareza do usuário.\n",
        "            - Responder que está buscando Perspectiva.\n",
        "\n",
        "            3) Tom e Estilo:\n",
        "\n",
        "            Exemplo de Interação (incorporado nas regras para clareza):\n",
        "            * Usuário (Buscando Conforto): 'Hoje estou me sentindo bem triste.'\n",
        "            * Chatbot: Reconhece a tristeza. Responde 'Buscando Conforto'.\n",
        "\n",
        "            * Usuário (Buscando Inspiração): 'Quero uma mensagem para começar bem o dia.'\n",
        "            * Chatbot: Reconhece a busca por inspiração matinal. Responde 'Buscando Inspiração'.\n",
        "\n",
        "            * Usuário (Buscando Perspectiva): 'Estou com uma decisão difícil pela frente.'\n",
        "            * Chatbot: Reconhece a incerteza/dificuldade. Responde 'Buscando Perspectiva'.\"\"\",\n",
        "\n",
        "        description=\"Agente que identifica o sentimento, humor ou necessidade\"\n",
        "\n",
        "    )\n",
        "    entrada_do_agente_identificador = necessidade\n",
        "    # Executa o agente\n",
        "    jornada = call_agent(identificador, entrada_do_agente_identificador)\n",
        "    return jornada"
      ],
      "metadata": {
        "id": "o8bqIfi_DyH8"
      },
      "execution_count": 8,
      "outputs": []
    },
    {
      "cell_type": "code",
      "source": [
        "# ... (definição da função agente_identificador) ...\n",
        "\n",
        "##########################################\n",
        "# --- Agente 2: Gerador de mensagem --- #\n",
        "##########################################\n",
        "def agente_motivador(jornada, preferencia_tom=\"acolhedor(a)\"):\n",
        "    instruction_motivador = f\"\"\"\n",
        "Propósito e Objetivos:\n",
        "* Gerar uma mensagem motivacional personalizada para o usuário com base na sua necessidade identificada.\n",
        "* Oferecer conforto, inspiração ou perspectiva, dependendo da categoria da necessidade do usuário.\n",
        "* Use um tom {preferencia_tom} na sua resposta.\n",
        "* **Certifique-se de que a linguagem seja inclusiva e respeitosa com diversas visões espirituais e filosóficas, ou a ausência delas.** # <<-- ADICIONADO Ponto 4\n",
        "\n",
        "Conteúdos espirituais/inspiracionais que você pode utilizar como referência (gere mensagens que se encaixem nestes estilos): versículos, citações, pequenos textos, parábolas, afirmações, trechos de livros.\n",
        "\n",
        "Comportamentos e Regras:\n",
        "1) Análise da Necessidade Identificada:\n",
        "a) Receber a categoria da necessidade do usuário ({jornada}).\n",
        "b) Entender o contexto da necessidade para personalizar a mensagem.\n",
        "\n",
        "2) Respostas Específicas por Categoria:\n",
        "a) Buscando Conforto:\n",
        "- Reconhecer e validar o sentimento.\n",
        "- Oferecer mensagem de empatia, apoio, esperança ou aceitação.\n",
        "- Evitar conselhos não solicitados.\n",
        "b) Buscando Inspiração:\n",
        "- Reconhecer o desejo por motivação.\n",
        "- Fornecer citação, reflexão ou afirmação.\n",
        "- Manter a mensagem breve.\n",
        "c) Buscando Perspectiva:\n",
        "- Reconhecer incerteza/dificuldade.\n",
        "- Oferecer mensagem sobre sabedoria, confiança ou resiliência.\n",
        "- Evitar soluções diretas.\n",
        "\n",
        "3) Tom e Estilo:\n",
        "* Mantenha um tom empático, atencioso e respeitoso.\n",
        "* Utilize linguagem clara e apropriada.\n",
        "* Evite jargões complexos.\n",
        "* Responda de forma direta.\n",
        "* Lembre-se de seguir o tom {preferencia_tom} solicitado.\n",
        "* **Garanta que as mensagens sejam inclusivas e respeitosas com todas as crenças ou não-crenças.** # <<-- REFORÇO Ponto 4\n",
        "\n",
        "\"\"\"\n",
        "    motivador = Agent(\n",
        "        name=\"agente_motivador\",\n",
        "        model=\"gemini-2.5-flash-preview-04-17\", # Use o modelo que você preferir\n",
        "        instruction=instruction_motivador,\n",
        "        description=\"Agente que fornece a resposta motivacional/espiritual.\"\n",
        "    )\n",
        "\n",
        "    entrada_do_agente_motivador = jornada\n",
        "    mensagem = call_agent(\n",
        "        motivador,\n",
        "        entrada_do_agente_motivador\n",
        "    )\n",
        "    return mensagem\n",
        ""
      ],
      "metadata": {
        "id": "QByUdnkmAOk1"
      },
      "execution_count": 21,
      "outputs": []
    },
    {
      "cell_type": "code",
      "source": [
        "# --- Loop externo para a sessão completa de conversa ---\n",
        "while True:\n",
        "    # --- DISCLAIMER E MENSAGEM DE PRIVACIDADE (Ponto 1 e 3) ---\n",
        "    print(\"-\" * 50)\n",
        "    print(\"⚠️ Importante:\")\n",
        "    print(\"O CoachAI Espiritual não substitui terapia, aconselhamento psicológico ou atendimento médico profissional.\")\n",
        "    print(\"Em situações de sofrimento intenso ou crise, por favor, busque ajuda especializada imediatamente.\")\n",
        "    print(\"Suas interações são processadas de forma confidencial e não são armazenadas permanentemente nesta versão de demonstração.\") # Adapte conforme sua política de privacidade real futura\n",
        "    print(\"-\" * 50)\n",
        "\n",
        "    # --- Pergunta a preferência de Tom/Personalidade uma vez por sessão ---\n",
        "    # Definir opções de tom/personalidade para o MVP\n",
        "    opcoes_tom = {\n",
        "        \"amigo\": \"amigo(a) e acolhedor(a)\",\n",
        "        \"sabio\": \"sábio(a) e reflexivo(a)\",\n",
        "        \"direto\": \"direto(a) e conciso(a)\"\n",
        "    }\n",
        "    preferencia_tom = \"\"\n",
        "    # Loop para garantir que uma opção de tom válida seja escolhida\n",
        "    while preferencia_tom not in opcoes_tom.values(): # Verificar se o valor está nas opções\n",
        "        tom_input = input(f\"\"\"\\n✨ Bem-vindo(a) ao CoachAI Espiritual! Que tipo de guia você prefere hoje?\\n\n",
        "        ({', '.join(opcoes_tom.keys())}, ou 'sair' para encerrar):\\n \"\"\").strip().lower()\n",
        "\n",
        "        if tom_input in [\"sair\", \"encerrar\", \"parar\", \"quit\"]:\n",
        "            print(\"\\nQue sua jornada seja iluminada! ✨\\n\") # Mantido seu ajuste de quebra de linha\n",
        "            # Precisamos sair de ambos os loops se sair for digitado aqui\n",
        "            exit_flag = True\n",
        "            break # Quebra o loop de escolha de tom\n",
        "\n",
        "        if tom_input in opcoes_tom:\n",
        "            preferencia_tom = opcoes_tom[tom_input] # Armazena o valor completo (ex: \"amigo(a) e acolhedor(a)\")\n",
        "            print(f\"Certo! Seu guia será {preferencia_tom}.\\n\") # Mantido seu ajuste de quebra de linha\n",
        "        else:\n",
        "            print(\"Opção inválida. Por favor, escolha entre 'amigo', 'sabio', 'direto', ou 'sair'.\\n\") # Mantido seu ajuste de quebra de linha\n",
        "\n",
        "    # Se a flag de sair foi definida no loop de escolha de tom, sair do loop externo também\n",
        "    if 'exit_flag' in locals() and exit_flag:\n",
        "        break # Quebra o loop externo\n",
        "\n",
        "    # --- Loop interno para obter necessidade e interagir sobre ela ---\n",
        "    # Este loop interno agora se inicia APÓS a definição do tom\n",
        "    while True: # Loop para obter necessidade e interagir sobre ela\n",
        "        # --- Obter entrada inicial ou nova do Usuário ---\n",
        "        # Pergunta como ele está se sentindo ou qual a nova necessidade.\n",
        "        # A opção de sair é tratada aqui e também na escolha inicial de tom.\n",
        "        necessidade_input = input(\"\"\"\\n❓ Como você está se sentindo agora,\\n\n",
        "        ou qual sua necessidade \\n\n",
        "        (ou digite 'novo' para mudar o tom/personalidade ou 'sair' para encerrar)?\\n \"\"\").strip() # Mantido seu ajuste de quebra de linha\n",
        "\n",
        "        # Verificar se o usuário quer encerrar a conversa a partir daqui\n",
        "        if necessidade_input.lower() in [\"sair\", \"encerrar\", \"parar\", \"quit\"]:\n",
        "             print(\"\\nQue sua jornada seja iluminada! ✨\\n\") # Mantido seu ajuste de quebra de linha\n",
        "             sair_conversao_completa = True # Seta a flag para sair completamente\n",
        "             break # Quebra o loop interno (necessidade)\n",
        "\n",
        "        # Adicionar opção para MUDAR o tom/personalidade dentro da conversa\n",
        "        if necessidade_input.lower() in [\"novo\", \"nova frase\", \"mudar\", \"diferente\"]:\n",
        "             print(\"\\nOkay, vamos refletir sobre o seu estado atual.\\n\") # Mantido seu ajuste de quebra de linha\n",
        "             # Quebra o loop interno (necessidade) para voltar ao início do loop externo e escolher um novo tom.\n",
        "             break # Quebra o loop interno (necessidade)\n",
        "\n",
        "\n",
        "        # Verificar se a entrada está vazia (após remover espaços)\n",
        "        if not necessidade_input:\n",
        "            print(\"❌ Você precisa fornecer uma frase, digitar 'novo' para mudar o tom, ou 'sair' para encerrar.\\n\") # Mantido seu ajuste de quebra de linha\n",
        "            continue # Volta para o início do loop interno (necessidade)\n",
        "\n",
        "         # --- GERENCIAMENTO BÁSICO DE CRISE (Ponto 2) ---\n",
        "        palavras_chave_crise = [\"suicidio\", \"suicídio\", \"quero morrer\", \"me matar\", \"não aguento mais\", \"tirar a vida\", \"fim da linha\"] # Lista de termos para detectar\n",
        "        if any(palavra in necessidade_input.lower() for palavra in palavras_chave_crise):\n",
        "            print(\"\\nSua dor é real, e você não está sozinho(a). Existem pessoas que podem te ajudar agora mesmo.\")\n",
        "            print(\"Por favor, procure ajuda profissional imediata. Você pode ligar para o **CVV (Centro de Valorização da Vida) no número 188** a qualquer hora, gratuitamente e com sigilo.\")\n",
        "            print(\"Eles estão prontos para ouvir e oferecer apoio.\")\n",
        "            print(\"Você também pode buscar ajuda em um CAPS (Centro de Atenção Psicossocial) ou em um pronto-socorro próximo.\")\n",
        "            print(\"\\nLembre-se, há esperança e ajuda disponível.\")\n",
        "            print(\"-\" * 50)\n",
        "            # Não chamar os agentes, apenas pedir nova entrada\n",
        "            continue # Volta para o início do loop interno (necessidade) para pedir uma nova frase\n",
        "\n",
        "\n",
        "        print(\"Aguarde! Estamos preparando sua mensagem: \") # Mantido seu print original\n",
        "\n",
        "        # --- Usando agente 1 (Identificador de humor/necessidade) ---\n",
        "        print(\"\\n...🔍 Identificando sua necessidade...\") # Mantido seu print original\n",
        "        jornada_identificada_output = agente_identificador(necessidade_input)\n",
        "        print(\"\\n...📝 Resultado do agente 1 (Identificador) ---\\n\") # Mantido seu print original\n",
        "        display(to_markdown(jornada_identificada_output))\n",
        "        jornada_categoria = jornada_identificada_output.strip()\n",
        "\n",
        "        # --- Usando agente 2 (Gerador de mensagem) ---\n",
        "        print(\"📝 Gerando mensagem motivacional...\\n\") # Mantido seu print original\n",
        "        # --- CHAVE DA PERSONALIZAÇÃO: Passar a preferência de tom para o agente ---\n",
        "        # Chamada à função agente_motivador agora inclui a variável preferencia_tom\n",
        "        mensagem = agente_motivador(jornada_categoria, preferencia_tom) # <<-- Mudança aqui!\n",
        "        print(\"\\n...📝 Resultado do agente 2 (Motivador) ---\\n\") # Mantido seu print original\n",
        "        print(\"------------------------------------------------\")\n",
        "        display(to_markdown(mensagem))\n",
        "        print(\"------------------------------------------------\")\n",
        "        print(\"\\n✅ Mensagem generada com sucesso!\\n\") # Mantido seu print original\n",
        "        print(\"------------------------------------------------\")\n",
        "\n",
        "        # --- Loop interno para opções PÓS-mensagem (já existente) ---\n",
        "        # Este loop agora lida apenas com \"outra mensagem para este tópico\"\n",
        "        # As opções \"novo\" e \"sair\" foram movidas para o loop de necessidade mais acima\n",
        "        while True:\n",
        "             next_action_msg = input(\"\"\"🤔 O que você gostaria de fazer a seguir?\\n\n",
        "             (Digite 'outra' para outra mensagem sobre este tópico, ou 'voltar' para as opções principais):\\n \"\"\").strip().lower() # Mantido seu ajuste de quebra de linha\n",
        "\n",
        "             if next_action_msg in [\"outra\", \"mais\"]:\n",
        "                 print(\"\\n📝 Gerando outra mensagem motivacional...\\n\") # Mantido seu print original\n",
        "                 # --- CHAVE DA PERSONALIZAÇÃO: Passar a preferência de tom para o agente ---\n",
        "                 # Chamada novamente à função agente_motivador com a variável preferencia_tom\n",
        "                 mensagem = agente_motivador(jornada_categoria, preferencia_tom) # <<-- Mudança aqui também!\n",
        "                 print(\"\\n...📝 Nova Mensagem ---\\n\") # Mantido seu print original\n",
        "                 print(\"------------------------------------------------\")\n",
        "                 display(to_markdown(mensagem))\n",
        "                 print(\"------------------------------------------------\")\n",
        "                 print(\"\\n✅ Mensagem gerada com sucesso!\\n\") # Mantido seu print original\n",
        "                 print(\"------------------------------------------------\")\n",
        "                 # Permanece neste loop interno\n",
        "\n",
        "             elif next_action_msg in [\"voltar\", \"menu\", \"opcoes\"]:\n",
        "                 print(\"\\nVoltando às opções principais.\\n\") # Mantido seu ajuste de quebra de linha\n",
        "                 break # Quebra este loop mais interno (opções pós-mensagem) e retorna para o loop de necessidade\n",
        "\n",
        "             else:\n",
        "                 print(\"❓ Opção inválida. Por favor, digite 'outra' ou 'voltar'.\\n\") # Mantido seu ajuste de quebra de linha\n",
        "                 # Permanece neste loop interno\n",
        "\n",
        "    # Verificar a condição para sair da conversa completa após quebrar o loop interno\n",
        "    # Se sair_conversao_completa foi True, sai do loop externo.\n",
        "    # Se mudar_tom foi True, o break do loop interno já nos leva de volta ao início do loop externo\n",
        "    # para a escolha do tom.\n",
        "    if 'sair_conversao_completa' in locals() and sair_conversao_completa:\n",
        "        break # Quebra o loop externo se a flag foi definida"
      ],
      "metadata": {
        "colab": {
          "base_uri": "https://localhost:8080/",
          "height": 1000
        },
        "id": "VDjB_Ocp7quT",
        "outputId": "e6c659df-4f42-4d50-ad18-b557426a975b"
      },
      "execution_count": null,
      "outputs": [
        {
          "output_type": "stream",
          "name": "stdout",
          "text": [
            "--------------------------------------------------\n",
            "⚠️ Importante:\n",
            "O CoachAI Espiritual não substitui terapia, aconselhamento psicológico ou atendimento médico profissional.\n",
            "Em situações de sofrimento intenso ou crise, por favor, busque ajuda especializada imediatamente.\n",
            "Suas interações são processadas de forma confidencial e não são armazenadas permanentemente nesta versão de demonstração.\n",
            "--------------------------------------------------\n",
            "\n",
            "✨ Bem-vindo(a) ao CoachAI Espiritual! Que tipo de guia você prefere hoje?\n",
            "\n",
            "        (amigo, sabio, direto, ou 'sair' para encerrar):\n",
            " direto\n",
            "Certo! Seu guia será direto(a) e conciso(a).\n",
            "\n",
            "\n",
            "❓ Como você está se sentindo agora,\n",
            "\n",
            "        ou qual sua necessidade \n",
            "\n",
            "        (ou digite 'novo' para mudar o tom/personalidade ou 'sair' para encerrar)?\n",
            " estou procurando um amor para a minha vida\n",
            "Aguarde! Estamos preparando sua mensagem: \n",
            "\n",
            "...🔍 Identificando sua necessidade...\n",
            "\n",
            "...📝 Resultado do agente 1 (Identificador) ---\n",
            "\n"
          ]
        },
        {
          "output_type": "display_data",
          "data": {
            "text/plain": [
              "<IPython.core.display.Markdown object>"
            ],
            "text/markdown": "> Buscando Inspiração.\n"
          },
          "metadata": {}
        },
        {
          "output_type": "stream",
          "name": "stdout",
          "text": [
            "📝 Gerando mensagem motivacional...\n",
            "\n",
            "\n",
            "...📝 Resultado do agente 2 (Motivador) ---\n",
            "\n",
            "------------------------------------------------\n"
          ]
        },
        {
          "output_type": "display_data",
          "data": {
            "text/plain": [
              "<IPython.core.display.Markdown object>"
            ],
            "text/markdown": "> Você busca inspiração. Lembre-se: a força que você precisa já está dentro de você. Comece onde está.\n"
          },
          "metadata": {}
        },
        {
          "output_type": "stream",
          "name": "stdout",
          "text": [
            "------------------------------------------------\n",
            "\n",
            "✅ Mensagem generada com sucesso!\n",
            "\n",
            "------------------------------------------------\n",
            "🤔 O que você gostaria de fazer a seguir?\n",
            "\n",
            "             (Digite 'outra' para outra mensagem sobre este tópico, ou 'voltar' para as opções principais):\n",
            " voltar\n",
            "\n",
            "Voltando às opções principais.\n",
            "\n",
            "\n",
            "❓ Como você está se sentindo agora,\n",
            "\n",
            "        ou qual sua necessidade \n",
            "\n",
            "        (ou digite 'novo' para mudar o tom/personalidade ou 'sair' para encerrar)?\n",
            " estou pensando em morrer\n",
            "Aguarde! Estamos preparando sua mensagem: \n",
            "\n",
            "...🔍 Identificando sua necessidade...\n",
            "\n",
            "...📝 Resultado do agente 1 (Identificador) ---\n",
            "\n"
          ]
        },
        {
          "output_type": "display_data",
          "data": {
            "text/plain": [
              "<IPython.core.display.Markdown object>"
            ],
            "text/markdown": "> Buscando Conforto\n> \n"
          },
          "metadata": {}
        },
        {
          "output_type": "stream",
          "name": "stdout",
          "text": [
            "📝 Gerando mensagem motivacional...\n",
            "\n",
            "\n",
            "...📝 Resultado do agente 2 (Motivador) ---\n",
            "\n",
            "------------------------------------------------\n"
          ]
        },
        {
          "output_type": "display_data",
          "data": {
            "text/plain": [
              "<IPython.core.display.Markdown object>"
            ],
            "text/markdown": "> Buscar conforto é válido. Nestes momentos, seja gentil consigo mesmo(a). Permita que a calma encontre você aos poucos. Há um tempo para sentir e um tempo para encontrar a serenidade novamente.\n"
          },
          "metadata": {}
        },
        {
          "output_type": "stream",
          "name": "stdout",
          "text": [
            "------------------------------------------------\n",
            "\n",
            "✅ Mensagem generada com sucesso!\n",
            "\n",
            "------------------------------------------------\n",
            "🤔 O que você gostaria de fazer a seguir?\n",
            "\n",
            "             (Digite 'outra' para outra mensagem sobre este tópico, ou 'voltar' para as opções principais):\n",
            " quero morrer\n",
            "❓ Opção inválida. Por favor, digite 'outra' ou 'voltar'.\n",
            "\n",
            "🤔 O que você gostaria de fazer a seguir?\n",
            "\n",
            "             (Digite 'outra' para outra mensagem sobre este tópico, ou 'voltar' para as opções principais):\n",
            " voltar\n",
            "\n",
            "Voltando às opções principais.\n",
            "\n",
            "\n",
            "❓ Como você está se sentindo agora,\n",
            "\n",
            "        ou qual sua necessidade \n",
            "\n",
            "        (ou digite 'novo' para mudar o tom/personalidade ou 'sair' para encerrar)?\n",
            " estou me sentido realizado com a finalização do meu projeto\n",
            "Aguarde! Estamos preparando sua mensagem: \n",
            "\n",
            "...🔍 Identificando sua necessidade...\n",
            "\n",
            "...📝 Resultado do agente 1 (Identificador) ---\n",
            "\n"
          ]
        },
        {
          "output_type": "display_data",
          "data": {
            "text/plain": [
              "<IPython.core.display.Markdown object>"
            ],
            "text/markdown": "> Buscando Inspiração\n"
          },
          "metadata": {}
        },
        {
          "output_type": "stream",
          "name": "stdout",
          "text": [
            "📝 Gerando mensagem motivacional...\n",
            "\n",
            "\n",
            "...📝 Resultado do agente 2 (Motivador) ---\n",
            "\n",
            "------------------------------------------------\n"
          ]
        },
        {
          "output_type": "display_data",
          "data": {
            "text/plain": [
              "<IPython.core.display.Markdown object>"
            ],
            "text/markdown": "> Sua capacidade de criar e crescer é ilimitada. Dê o primeiro passo.\n"
          },
          "metadata": {}
        },
        {
          "output_type": "stream",
          "name": "stdout",
          "text": [
            "------------------------------------------------\n",
            "\n",
            "✅ Mensagem generada com sucesso!\n",
            "\n",
            "------------------------------------------------\n",
            "🤔 O que você gostaria de fazer a seguir?\n",
            "\n",
            "             (Digite 'outra' para outra mensagem sobre este tópico, ou 'voltar' para as opções principais):\n",
            " voltar\n",
            "\n",
            "Voltando às opções principais.\n",
            "\n",
            "\n",
            "❓ Como você está se sentindo agora,\n",
            "\n",
            "        ou qual sua necessidade \n",
            "\n",
            "        (ou digite 'novo' para mudar o tom/personalidade ou 'sair' para encerrar)?\n",
            " novo\n",
            "\n",
            "Okay, vamos refletir sobre o seu estado atual.\n",
            "\n",
            "--------------------------------------------------\n",
            "⚠️ Importante:\n",
            "O CoachAI Espiritual não substitui terapia, aconselhamento psicológico ou atendimento médico profissional.\n",
            "Em situações de sofrimento intenso ou crise, por favor, busque ajuda especializada imediatamente.\n",
            "Suas interações são processadas de forma confidencial e não são armazenadas permanentemente nesta versão de demonstração.\n",
            "--------------------------------------------------\n",
            "\n",
            "✨ Bem-vindo(a) ao CoachAI Espiritual! Que tipo de guia você prefere hoje?\n",
            "\n",
            "        (amigo, sabio, direto, ou 'sair' para encerrar):\n",
            " amigo\n",
            "Certo! Seu guia será amigo(a) e acolhedor(a).\n",
            "\n",
            "\n",
            "❓ Como você está se sentindo agora,\n",
            "\n",
            "        ou qual sua necessidade \n",
            "\n",
            "        (ou digite 'novo' para mudar o tom/personalidade ou 'sair' para encerrar)?\n",
            " estou me sentido realizado com a finalização do meu projeto\n",
            "Aguarde! Estamos preparando sua mensagem: \n",
            "\n",
            "...🔍 Identificando sua necessidade...\n",
            "\n",
            "...📝 Resultado do agente 1 (Identificador) ---\n",
            "\n"
          ]
        },
        {
          "output_type": "display_data",
          "data": {
            "text/plain": [
              "<IPython.core.display.Markdown object>"
            ],
            "text/markdown": "> Buscando Inspiração\n"
          },
          "metadata": {}
        },
        {
          "output_type": "stream",
          "name": "stdout",
          "text": [
            "📝 Gerando mensagem motivacional...\n",
            "\n",
            "\n",
            "...📝 Resultado do agente 2 (Motivador) ---\n",
            "\n",
            "------------------------------------------------\n"
          ]
        },
        {
          "output_type": "display_data",
          "data": {
            "text/plain": [
              "<IPython.core.display.Markdown object>"
            ],
            "text/markdown": "> Oi! Que bom que você está buscando inspiração. É um ótimo caminho! ✨\n> \n> Gosto de pensar que **toda a força e a criatividade que você precisa já estão dentro de você**, esperando para serem liberadas. Permita-se explorar esse potencial hoje mesmo!\n> \n> Espero que isso te dê um empurrãozinho para começar ou continuar. 😊\n"
          },
          "metadata": {}
        },
        {
          "output_type": "stream",
          "name": "stdout",
          "text": [
            "------------------------------------------------\n",
            "\n",
            "✅ Mensagem generada com sucesso!\n",
            "\n",
            "------------------------------------------------\n"
          ]
        }
      ]
    }
  ]
}